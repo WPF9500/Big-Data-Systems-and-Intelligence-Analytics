{
 "cells": [
  {
   "cell_type": "code",
   "execution_count": 2,
   "metadata": {},
   "outputs": [
    {
     "name": "stdout",
     "output_type": "stream",
     "text": [
      "[['https://www.facebook.com/beginnersbook', '7,187FANS', '01-29-18 22:01:29', 'Yes'], ['https://plus.google.com/u/0/+Beginnersbookdotcom/posts', '5,278FOLLOWERS', '01-29-18 22:01:30', 'Yes']]\n"
     ]
    }
   ],
   "source": [
    "from __future__ import print_function\n",
    "import urllib3 #  pip install -i https://pypi.anaconda.org/pypi/simple urllib3\n",
    "import unicodedata\n",
    "from bs4 import BeautifulSoup, SoupStrainer, Comment\n",
    "import warnings\n",
    "warnings.filterwarnings('ignore')\n",
    "import datetime\n",
    "import pandas as pd\n",
    "#\n",
    "#url='http://www.espn.com/nba/'\n",
    "url='https://beginnersbook.com/'\n",
    "#url='https://www.geeksforgeeks.org/'\n",
    "#url='https://www.goodreads.com/'\n",
    "http = urllib3.PoolManager()\n",
    "response = http.request('GET',url)\n",
    "\n",
    "\n",
    "soup=BeautifulSoup(response.data, \"lxml\")\n",
    "l = soup.find_all('a')\n",
    "\n",
    "links=[]\n",
    "for url in l:\n",
    "    tmp=[]\n",
    "    if(url['href'].startswith(('http', 'ftp', 'www','https')) and url['href'].find(\"beginnersbook.com\") == -1):\n",
    "        tmp.append(url['href'])\n",
    "        tmp.append(url.text)\n",
    "        tmp.append(datetime.datetime.now().strftime('%m-%d-%y %H:%M:%S'))\n",
    "        response = http.request('GET',tmp[0])\n",
    "        if(response.status == 200):\n",
    "            tmp.append(\"Yes\")\n",
    "        else:\n",
    "            tmp.append(\"No\")\n",
    "        links.append(tmp)\n",
    "\n",
    "\n",
    "my_df = pd.DataFrame(links)\n",
    "my_df.to_csv('out.csv',index = False, header =(\"Links\",\"text\",\"date\",\"valid\"))\n",
    "print(links)"
   ]
  },
  {
   "cell_type": "code",
   "execution_count": null,
   "metadata": {
    "collapsed": true
   },
   "outputs": [],
   "source": []
  },
  {
   "cell_type": "code",
   "execution_count": null,
   "metadata": {
    "collapsed": true
   },
   "outputs": [],
   "source": []
  }
 ],
 "metadata": {
  "kernelspec": {
   "display_name": "Python 3",
   "language": "python",
   "name": "python3"
  }
 },
 "nbformat": 4,
 "nbformat_minor": 2
}
